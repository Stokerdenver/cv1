{
 "cells": [
  {
   "cell_type": "code",
   "execution_count": 2,
   "metadata": {},
   "outputs": [],
   "source": [
    "import cv2\n",
    "import os\n",
    "import matplotlib.pyplot as plt\n",
    "import math\n",
    "import numpy as np"
   ]
  },
  {
   "cell_type": "code",
   "execution_count": 3,
   "metadata": {},
   "outputs": [],
   "source": [
    "def saved_image(folder_name, image_name, image):\n",
    "    if not os.path.exists(folder_name):\n",
    "        os.makedirs(folder_name)\n",
    "    success = cv2.imwrite(os.path.join(folder_name, image_name), image)\n",
    "    if not success:\n",
    "        print(\"Error saving image\")\n",
    "    print('imvrite Done')"
   ]
  },
  {
   "cell_type": "code",
   "execution_count": 4,
   "metadata": {},
   "outputs": [],
   "source": [
    "import cv2\n",
    "import os\n",
    "import matplotlib.pyplot as plt\n",
    "import math\n",
    "import numpy as np\n",
    "\n",
    "def get_countour_with_print(image, thrs):\n",
    "  # image = cv2.imread(image_file)\n",
    "\n",
    "  # if image is None:\n",
    "  #     print(f\"Не удалось загрузить изображение: {image_file}\")\n",
    "  filtered_img = cv2.blur(image, (7,7))\n",
    "\n",
    "\n",
    "  filtered_img = cv2.GaussianBlur(image, (9,9), 0)\n",
    "  gray_image = cv2.cvtColor(filtered_img, cv2.COLOR_BGR2GRAY)\n",
    "\n",
    "\n",
    "  binary_image_adaptive = cv2.threshold(gray_image, thrs, 255, cv2.THRESH_BINARY)[1]\n",
    "\n",
    "  # Поиск контуров\n",
    "  contours, hierarchy = cv2.findContours(binary_image_adaptive, cv2.RETR_TREE, cv2.CHAIN_APPROX_SIMPLE)\n",
    "\n",
    "  # Копия оригинального изображения для отображения контуров\n",
    "  contour_image = image.copy()\n",
    "  # Отрисовка контуров на изображении\n",
    "  cv2.drawContours(contour_image, contours, -1, (0, 255, 0), 1)\n",
    "  \n",
    "\n",
    "  approx_countours=[]\n",
    "  car_number = None\n",
    "  found = False\n",
    "  number_file_name = ''\n",
    "\n",
    "  for countour in contours:\n",
    "    # Прямоугольник\n",
    "    rect = cv2.minAreaRect(countour)\n",
    "    (x, y), (w, h), angle = rect\n",
    "\n",
    "    if angle < 45 and angle > 15:\n",
    "        continue\n",
    "\n",
    "    # Проверка на нулевую высоту или ширину\n",
    "    if h == 0 or w == 0:\n",
    "      continue  # Пропускаем контур, если ширина или высота равны нулю\n",
    "\n",
    "\n",
    "    aspect_ratio = w / h if w > h else h / w\n",
    "    area = w * h\n",
    "\n",
    "    # Параметры для фильтрации\n",
    "    if 2.5 < aspect_ratio < 5.8 and 1500 < area < 10000:\n",
    "\n",
    "      # print('angle', angle)\n",
    "      area = cv2.contourArea(countour)\n",
    "      hull = cv2.convexHull(countour)\n",
    "      hull_area = cv2.contourArea(hull)\n",
    "      solidity = float(area)/hull_area\n",
    "      # print('solidity', solidity)\n",
    "\n",
    "      if (solidity < 0.8):\n",
    "        continue\n",
    "      \n",
    "      box = cv2.boxPoints(rect)\n",
    "      box = np.intp(box)\n",
    "      approx_countours.append(box)\n",
    "      angle = angle if angle < 40 else angle - 90\n",
    "      # print('new_nagle', angle)\n",
    "      # Вырезаем и поворачиваем ROI номерного знака\n",
    "      M = cv2.getRotationMatrix2D((x, y), angle, 1.0)\n",
    "      rotated = cv2.warpAffine(image, M, (image.shape[1], image.shape[0]))\n",
    "      #разобраться с шириной и высотой\n",
    "\n",
    "      # Извлекаем ROI номерного знака\n",
    "\n",
    "      vertical_value = h if w > h else w \n",
    "      gorizontal_value = w if w > h else h \n",
    "\n",
    "      print('vertical_value', vertical_value)\n",
    "      print('gorizontal_value', gorizontal_value)\n",
    "\n",
    "      gorizontal_value = gorizontal_value if gorizontal_value < 120 else 120\n",
    "\n",
    "      roi = rotated[int(y - vertical_value/2):int(y + vertical_value/2), int(x - gorizontal_value/2):int(x + gorizontal_value/2)]\n",
    "      # number_file_name = f'{image_file.split(\".\")[0]}-number.png'\n",
    "      car_number = roi\n",
    "      found = True\n",
    "      \n",
    "      plt.imshow(roi)\n",
    "      plt.show()\n",
    "\n",
    "  img_contours = image.copy()\n",
    "  cv2.drawContours(img_contours, approx_countours, -1, (0, 255, 0), 1)\n",
    "\n",
    "  return car_number, found, number_file_name"
   ]
  },
  {
   "cell_type": "code",
   "execution_count": 5,
   "metadata": {},
   "outputs": [],
   "source": [
    "def get_car_number(image):\n",
    "    car_number = None\n",
    "    done = False\n",
    "    for thrs in [90, 130, 160]:\n",
    "        number, end, number_file_name = get_countour_with_print(image, thrs)\n",
    "        if (end): \n",
    "            car_number = number\n",
    "            done = True\n",
    "            break\n",
    "    return car_number, number_file_name, done"
   ]
  },
  {
   "cell_type": "code",
   "execution_count": 6,
   "metadata": {},
   "outputs": [],
   "source": [
    "def split_number_by_image(image, name):\n",
    "    coordinates = [\n",
    "        (7,4,17,20),\n",
    "        (20,4,19,21),\n",
    "        (35,3,15,21),\n",
    "        (50,2,15,21),\n",
    "        (62,5,18,19),\n",
    "        (75,5,15,19),\n",
    "        (90,0,15,20),\n",
    "        (100,0,15,20),\n",
    "    ]\n",
    "    new_symbols = []\n",
    "    for i, (x, y, w, h) in enumerate(coordinates):\n",
    "        symbol = image[y:y + h, x:x + w]\n",
    "        folder = f'{name.split(\".\")[0]}'\n",
    "        new_symbols.append(symbol)\n",
    "        # saved_image(folder, f'symbol-{i}.png', symbol)\n",
    "\n",
    "    cv2.destroyAllWindows()\n",
    "    return new_symbols"
   ]
  },
  {
   "cell_type": "code",
   "execution_count": 7,
   "metadata": {},
   "outputs": [],
   "source": [
    "def binaryzation_number_symbol(image_file): \n",
    "    # image_path = os.path.join('./01-393-number', image_file)\n",
    "    # image = cv2.imread(image_path, cv2.IMREAD_GRAYSCALE)\n",
    "\n",
    "    image = cv2.cvtColor(image_file, cv2.COLOR_BGR2GRAY)\n",
    "\n",
    "    equ = cv2.equalizeHist(image)\n",
    "    filtered_img = cv2.GaussianBlur(equ, (3,3), 0)\n",
    "    binary_image = cv2.adaptiveThreshold(filtered_img, 255, cv2.ADAPTIVE_THRESH_GAUSSIAN_C, cv2.THRESH_BINARY, 15, 3)\n",
    "    binary_image = cv2.cvtColor(binary_image, cv2.IMREAD_GRAYSCALE)\n",
    "\n",
    "    return image, binary_image"
   ]
  },
  {
   "cell_type": "code",
   "execution_count": 8,
   "metadata": {},
   "outputs": [],
   "source": [
    "def compare_function(image_name, is_digit, is_reg = False):\n",
    "    image, binary_image =binaryzation_number_symbol(image_name)\n",
    "    gosznak_folder = './gosznak'\n",
    "    templates = []\n",
    "\n",
    "    # plt.imshow(binary_image)\n",
    "    # plt.show()\n",
    "\n",
    "    if is_digit:\n",
    "        templates = [f for f in os.listdir(gosznak_folder) if f.endswith(('jpg', 'png', 'jpeg')) and f[0].isdigit()]\n",
    "    else: \n",
    "        templates = [f for f in os.listdir(gosznak_folder) if f.endswith(('jpg', 'png', 'jpeg')) and not f[0].isdigit()]\n",
    "    compares = []\n",
    "    for name in templates:\n",
    "        template_path = os.path.join(gosznak_folder, name)\n",
    "        template = cv2.imread(template_path)\n",
    "        template_gray = cv2.cvtColor(template, cv2.IMREAD_GRAYSCALE)\n",
    "        assert template is not None, \"file could not be read, check with os.path.exists()\"\n",
    "\n",
    "        # Изменение размера изображений\n",
    "        reg_scale_factor = 0.04285714285\n",
    "        scale_factor_template = 0.0488505747126437 if is_digit else 0.0599078341013825\n",
    "        \n",
    "        current_factor = reg_scale_factor if is_reg else scale_factor_template\n",
    "\n",
    "        new_widts_template = int(template.shape[1] * current_factor)\n",
    "        new_height_template = int(template.shape[0] * current_factor)\n",
    "\n",
    "        template_resized = cv2.resize(template_gray, (new_widts_template,new_height_template))\n",
    "        # plt.subplot(121), plt.imshow(binary_image)\n",
    "        # plt.subplot(122), plt.imshow(template_resized)\n",
    "        # plt.show()\n",
    "        res = cv2.matchTemplate(binary_image, template_resized, cv2.TM_CCOEFF_NORMED)\n",
    "        value = cv2.minMaxLoc(res)[1]\n",
    "        # print('value', value, name.split('.')[0])\n",
    "        compares.append((name.split('.')[0], value))\n",
    "    max_val = max(compares, key=lambda tuple: tuple[1])\n",
    "\n",
    "    template_name = [name for name in templates if name.startswith(max_val[0])][0]\n",
    "    template_path = os.path.join(gosznak_folder, template_name)\n",
    "    currentTemplate = cv2.imread(template_path)\n",
    "    image = cv2.cvtColor(image, cv2.IMREAD_GRAYSCALE)\n",
    "    # plt.subplot(131), plt.imshow(image)\n",
    "    # plt.subplot(132), plt.imshow(binary_image)\n",
    "    # plt.subplot(133), plt.imshow(currentTemplate)\n",
    "    # plt.show()\n",
    "    # print(max_val[0])\n",
    "    return max_val[0]"
   ]
  },
  {
   "cell_type": "code",
   "execution_count": 9,
   "metadata": {},
   "outputs": [
    {
     "name": "stdout",
     "output_type": "stream",
     "text": [
      "vertical_value 24.770973205566406\n",
      "gorizontal_value 118.09754180908203\n"
     ]
    },
    {
     "data": {
      "image/png": "[encoded data removed]",
      "text/plain": [
       "<Figure size 640x480 with 1 Axes>"
      ]
     },
     "metadata": {},
     "output_type": "display_data"
    },
    {
     "ename": "FileNotFoundError",
     "evalue": "[WinError 3] Системе не удается найти указанный путь: './gosznak'",
     "output_type": "error",
     "traceback": [
      "\u001b[1;31m---------------------------------------------------------------------------\u001b[0m",
      "\u001b[1;31mFileNotFoundError\u001b[0m                         Traceback (most recent call last)",
      "Cell \u001b[1;32mIn[9], line 5\u001b[0m\n\u001b[0;32m      2\u001b[0m car_test, _, _ \u001b[38;5;241m=\u001b[39m get_car_number(car1)\n\u001b[0;32m      3\u001b[0m new_symbols \u001b[38;5;241m=\u001b[39m split_number_by_image(car_test, \u001b[38;5;124m'\u001b[39m\u001b[38;5;124m'\u001b[39m)\n\u001b[1;32m----> 5\u001b[0m \u001b[38;5;28mprint\u001b[39m(compare_function(new_symbols[\u001b[38;5;241m1\u001b[39m],\u001b[38;5;28;01mTrue\u001b[39;00m))\n",
      "Cell \u001b[1;32mIn[8], line 10\u001b[0m, in \u001b[0;36mcompare_function\u001b[1;34m(image_name, is_digit, is_reg)\u001b[0m\n\u001b[0;32m      6\u001b[0m \u001b[38;5;66;03m# plt.imshow(binary_image)\u001b[39;00m\n\u001b[0;32m      7\u001b[0m \u001b[38;5;66;03m# plt.show()\u001b[39;00m\n\u001b[0;32m      9\u001b[0m \u001b[38;5;28;01mif\u001b[39;00m is_digit:\n\u001b[1;32m---> 10\u001b[0m     templates \u001b[38;5;241m=\u001b[39m [f \u001b[38;5;28;01mfor\u001b[39;00m f \u001b[38;5;129;01min\u001b[39;00m os\u001b[38;5;241m.\u001b[39mlistdir(gosznak_folder) \u001b[38;5;28;01mif\u001b[39;00m f\u001b[38;5;241m.\u001b[39mendswith((\u001b[38;5;124m'\u001b[39m\u001b[38;5;124mjpg\u001b[39m\u001b[38;5;124m'\u001b[39m, \u001b[38;5;124m'\u001b[39m\u001b[38;5;124mpng\u001b[39m\u001b[38;5;124m'\u001b[39m, \u001b[38;5;124m'\u001b[39m\u001b[38;5;124mjpeg\u001b[39m\u001b[38;5;124m'\u001b[39m)) \u001b[38;5;129;01mand\u001b[39;00m f[\u001b[38;5;241m0\u001b[39m]\u001b[38;5;241m.\u001b[39misdigit()]\n\u001b[0;32m     11\u001b[0m \u001b[38;5;28;01melse\u001b[39;00m: \n\u001b[0;32m     12\u001b[0m     templates \u001b[38;5;241m=\u001b[39m [f \u001b[38;5;28;01mfor\u001b[39;00m f \u001b[38;5;129;01min\u001b[39;00m os\u001b[38;5;241m.\u001b[39mlistdir(gosznak_folder) \u001b[38;5;28;01mif\u001b[39;00m f\u001b[38;5;241m.\u001b[39mendswith((\u001b[38;5;124m'\u001b[39m\u001b[38;5;124mjpg\u001b[39m\u001b[38;5;124m'\u001b[39m, \u001b[38;5;124m'\u001b[39m\u001b[38;5;124mpng\u001b[39m\u001b[38;5;124m'\u001b[39m, \u001b[38;5;124m'\u001b[39m\u001b[38;5;124mjpeg\u001b[39m\u001b[38;5;124m'\u001b[39m)) \u001b[38;5;129;01mand\u001b[39;00m \u001b[38;5;129;01mnot\u001b[39;00m f[\u001b[38;5;241m0\u001b[39m]\u001b[38;5;241m.\u001b[39misdigit()]\n",
      "\u001b[1;31mFileNotFoundError\u001b[0m: [WinError 3] Системе не удается найти указанный путь: './gosznak'"
     ]
    }
   ],
   "source": [
    "car1 = cv2.imread('cars\\\\01-2489.jpg')\n",
    "car_test, _, _ = get_car_number(car1)\n",
    "new_symbols = split_number_by_image(car_test, '')\n",
    "\n",
    "print(compare_function(new_symbols[1],True))\n",
    "\n",
    "# car_test, _ = get_car_number('./data/01-2060.jpg')\n",
    "# new_symbols = split_number_by_image(car_test, '')\n",
    "# compare_function(new_symbols[1],True)\n",
    "\n"
   ]
  },
  {
   "cell_type": "code",
   "execution_count": 10,
   "metadata": {},
   "outputs": [],
   "source": [
    "def return_number(image_files):\n",
    "    number = ''\n",
    "    for idx, image in enumerate(image_files):\n",
    "        if idx in [1,2,3]:\n",
    "            number += compare_function(image, True)\n",
    "        elif idx in [6,7]:\n",
    "            number += compare_function(image, True, True)\n",
    "        else:\n",
    "            number += compare_function(image, False)\n",
    "    return number"
   ]
  },
  {
   "cell_type": "code",
   "execution_count": 10,
   "metadata": {},
   "outputs": [],
   "source": [
    "def get_number(image):\n",
    "    car_number, name, done = get_car_number(image)\n",
    "    if (done == False):\n",
    "        return\n",
    "    new_symbols = split_number_by_image(car_number, name)\n",
    "    str_car_number = return_number(new_symbols)\n",
    "    binary_images = []\n",
    "\n",
    "    # for idx, image in enumerate(new_symbols):\n",
    "    #     binary_images.append(binaryzation_number_symbol(image)[1])\n",
    "\n",
    "    # fig, axs = plt.subplots(2, 4, figsize=(8, 8))\n",
    "\n",
    "    # for i in range(2):\n",
    "    #     for j in range(4):\n",
    "    #         index = j\n",
    "    #         if (i>0):\n",
    "    #             index = 4+j\n",
    "    #         axs[i, j].imshow(binary_images[index])\n",
    "    #         axs[i, j].set_title(f'Image {index}')\n",
    "\n",
    "    # plt.tight_layout()\n",
    "    # plt.show()\n",
    "\n",
    "    # plt.imshow(car_number)\n",
    "    # plt.show()\n",
    "    return str_car_number"
   ]
  },
  {
   "cell_type": "code",
   "execution_count": 12,
   "metadata": {},
   "outputs": [],
   "source": [
    "# # print(get_number('./data/01-541.jpg'))\n",
    "# def check_binary(image):\n",
    "#     car_number, name = get_car_number(image)\n",
    "#     new_symbols = split_number_by_image(car_number, name)\n",
    "#     binary_images = []\n",
    "\n",
    "#     # for idx, image in enumerate(new_symbols):\n",
    "#     #     binary_images.append(binaryzation_number_symbol(image)[1])\n",
    "\n",
    "#     # fig, axs = plt.subplots(2, 4, figsize=(8, 8))\n",
    "\n",
    "#     # for i in range(2):\n",
    "#     #     for j in range(4):\n",
    "#     #         index = j\n",
    "#     #         if (i>0):\n",
    "#     #             index = 4+j\n",
    "#     #         axs[i, j].imshow(binary_images[index])\n",
    "#     #         axs[i, j].set_title(f'Image {index}')\n",
    "\n",
    "#     plt.tight_layout()\n",
    "#     plt.show()\n",
    "    "
   ]
  },
  {
   "cell_type": "code",
   "execution_count": 13,
   "metadata": {},
   "outputs": [
    {
     "name": "stdout",
     "output_type": "stream",
     "text": [
      "None\n"
     ]
    }
   ],
   "source": [
    "\n",
    "test = cv2.imread('test.png')\n",
    "print(get_number(test))\n",
    "# print('------------------------------')\n",
    "# print(get_number('./data/01-541.jpg'))\n",
    "# print('------------------------------')\n",
    "# print(get_number('./data/01-715.jpg'))\n",
    "# print('------------------------------')\n",
    "# print(get_number('./data/01-2060.jpg'))\n",
    "# print('------------------------------')\n",
    "# print(get_number('./data/01-2193.jpg'))\n",
    "# print('------------------------------')\n",
    "# print(get_number('./data/01-1721.jpg'))\n",
    "# print('------------------------------')\n",
    "# print(get_number('./data/01-2489.jpg'))\n",
    "# print('------------------------------')\n"
   ]
  },
  {
   "cell_type": "code",
   "execution_count": 11,
   "metadata": {},
   "outputs": [],
   "source": [
    "def get_number_binary(image):\n",
    "    car_number, name = get_car_number(image)\n",
    "    new_symbols = split_number_by_image(car_number, name)\n",
    "    str_car_number = return_number(new_symbols)\n",
    "    binary_images = []\n",
    "\n",
    "    for idx, image in enumerate(new_symbols):\n",
    "        binary_images.append(binaryzation_number_symbol(image)[1])\n",
    "\n",
    "    fig, axs = plt.subplots(2, 4, figsize=(8, 8))\n",
    "\n",
    "    for i in range(2):\n",
    "        for j in range(4):\n",
    "            index = j\n",
    "            if (i>0):\n",
    "                index = 4+j\n",
    "            axs[i, j].imshow(binary_images[index])\n",
    "            axs[i, j].set_title(f'Image {index}')\n",
    "\n",
    "    plt.tight_layout()\n",
    "    plt.show()\n",
    "\n",
    "    # plt.imshow(car_number)\n",
    "    # plt.show()\n",
    "    return str_car_number"
   ]
  },
  {
   "cell_type": "code",
   "execution_count": 15,
   "metadata": {},
   "outputs": [],
   "source": [
    "\n",
    "# print(get_number_binary('./data/01-393.jpg'))\n",
    "# print('------------------------------')\n",
    "# print(get_number_binary('./data/01-541.jpg'))\n",
    "# print('------------------------------')\n",
    "# print(get_number_binary('./data/01-715.jpg'))\n",
    "# print('------------------------------')\n",
    "# print(get_number_binary('./data/01-2060.jpg'))\n",
    "# print('------------------------------')\n",
    "# print(get_number_binary('./data/01-2193.jpg'))\n",
    "# print('------------------------------')\n",
    "# print(get_number_binary('./data/01-1721.jpg'))\n",
    "# print('------------------------------')\n",
    "# print(get_number_binary('./data/01-2489.jpg'))\n",
    "# print('------------------------------')\n"
   ]
  },
  {
   "cell_type": "code",
   "execution_count": 16,
   "metadata": {},
   "outputs": [],
   "source": [
    "\n",
    "# print(get_number('./data/01-2489.jpg'))\n",
    "# print('------------------------------')\n",
    "# print(get_number('./data/01-486.jpg'))"
   ]
  },
  {
   "cell_type": "code",
   "execution_count": 14,
   "metadata": {},
   "outputs": [
    {
     "name": "stdout",
     "output_type": "stream",
     "text": [
      "vertical_value 25.186479568481445\n",
      "gorizontal_value 65.23506164550781\n"
     ]
    },
    {
     "data": {
      "image/png": "[encoded data removed]",
      "text/plain": [
       "<Figure size 640x480 with 1 Axes>"
      ]
     },
     "metadata": {},
     "output_type": "display_data"
    },
    {
     "ename": "NameError",
     "evalue": "name 'return_number' is not defined",
     "output_type": "error",
     "traceback": [
      "\u001b[1;31m---------------------------------------------------------------------------\u001b[0m",
      "\u001b[1;31mNameError\u001b[0m                                 Traceback (most recent call last)",
      "Cell \u001b[1;32mIn[14], line 19\u001b[0m\n\u001b[0;32m     17\u001b[0m \u001b[38;5;66;03m# Display the resulting frame\u001b[39;00m\n\u001b[0;32m     18\u001b[0m cv2\u001b[38;5;241m.\u001b[39mimshow(\u001b[38;5;124m'\u001b[39m\u001b[38;5;124mframe\u001b[39m\u001b[38;5;124m'\u001b[39m, gray)\n\u001b[1;32m---> 19\u001b[0m \u001b[38;5;28mprint\u001b[39m(get_number(frame))\n\u001b[0;32m     20\u001b[0m \u001b[38;5;28;01mif\u001b[39;00m cv2\u001b[38;5;241m.\u001b[39mwaitKey(\u001b[38;5;241m1\u001b[39m) \u001b[38;5;241m==\u001b[39m \u001b[38;5;28mord\u001b[39m(\u001b[38;5;124m'\u001b[39m\u001b[38;5;124mq\u001b[39m\u001b[38;5;124m'\u001b[39m):\n\u001b[0;32m     21\u001b[0m     \u001b[38;5;28;01mbreak\u001b[39;00m\n",
      "Cell \u001b[1;32mIn[10], line 6\u001b[0m, in \u001b[0;36mget_number\u001b[1;34m(image)\u001b[0m\n\u001b[0;32m      4\u001b[0m     \u001b[38;5;28;01mreturn\u001b[39;00m\n\u001b[0;32m      5\u001b[0m new_symbols \u001b[38;5;241m=\u001b[39m split_number_by_image(car_number, name)\n\u001b[1;32m----> 6\u001b[0m str_car_number \u001b[38;5;241m=\u001b[39m return_number(new_symbols)\n\u001b[0;32m      7\u001b[0m binary_images \u001b[38;5;241m=\u001b[39m []\n\u001b[0;32m      9\u001b[0m \u001b[38;5;66;03m# for idx, image in enumerate(new_symbols):\u001b[39;00m\n\u001b[0;32m     10\u001b[0m \u001b[38;5;66;03m#     binary_images.append(binaryzation_number_symbol(image)[1])\u001b[39;00m\n\u001b[0;32m     11\u001b[0m \n\u001b[1;32m   (...)\u001b[0m\n\u001b[0;32m     25\u001b[0m \u001b[38;5;66;03m# plt.imshow(car_number)\u001b[39;00m\n\u001b[0;32m     26\u001b[0m \u001b[38;5;66;03m# plt.show()\u001b[39;00m\n",
      "\u001b[1;31mNameError\u001b[0m: name 'return_number' is not defined"
     ]
    }
   ],
   "source": [
    "cap = cv2.VideoCapture(0)\n",
    "if not cap.isOpened():\n",
    "    print(\"Cannot open camera\")\n",
    "    exit()\n",
    "while True:\n",
    "    # Capture frame-by-frame\n",
    "    ret, frame = cap.read()\n",
    " \n",
    "    # if frame is read correctly ret is True\n",
    "    if not ret:\n",
    "        print(\"Can't receive frame (stream end?). Exiting ...\")\n",
    "        break\n",
    "    # Our operations on the frame come here\n",
    "    gray = cv2.cvtColor(frame, cv2.COLOR_BGR2GRAY)\n",
    "\n",
    "\n",
    "    # Display the resulting frame\n",
    "    cv2.imshow('frame', gray)\n",
    "    print(get_number(frame))\n",
    "    if cv2.waitKey(1) == ord('q'):\n",
    "        break\n",
    " \n",
    "# When everything done, release the capture\n",
    "cap.release()\n",
    "cv2.destroyAllWindows()"
   ]
  },
  {
   "cell_type": "code",
   "execution_count": null,
   "metadata": {},
   "outputs": [],
   "source": []
  }
 ],
 "metadata": {
  "kernelspec": {
   "display_name": "Python 3 (ipykernel)",
   "language": "python",
   "name": "python3"
  },
  "language_info": {
   "codemirror_mode": {
    "name": "ipython",
    "version": 3
   },
   "file_extension": ".py",
   "mimetype": "text/x-python",
   "name": "python",
   "nbconvert_exporter": "python",
   "pygments_lexer": "ipython3",
   "version": "3.11.1"
  }
 },
 "nbformat": 4,
 "nbformat_minor": 4
}
